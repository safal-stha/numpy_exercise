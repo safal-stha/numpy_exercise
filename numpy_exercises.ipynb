{
  "cells": [
    {
      "cell_type": "markdown",
      "metadata": {
        "id": "view-in-github",
        "colab_type": "text"
      },
      "source": [
        "<a href=\"https://colab.research.google.com/github/safal-stha/numpy_exercise/blob/main/numpy_exercises.ipynb\" target=\"_parent\"><img src=\"https://colab.research.google.com/assets/colab-badge.svg\" alt=\"Open In Colab\"/></a>"
      ]
    },
    {
      "cell_type": "markdown",
      "metadata": {
        "id": "UBiRO_LPdx9_"
      },
      "source": [
        "# NumPy Practice\n"
      ]
    },
    {
      "cell_type": "code",
      "execution_count": 1,
      "metadata": {
        "id": "fC9IMt6xdx-F"
      },
      "outputs": [],
      "source": [
        "# Import NumPy as its abbreviation 'np'\n",
        "import numpy as np"
      ]
    },
    {
      "cell_type": "code",
      "execution_count": 8,
      "metadata": {
        "id": "YGTXTMqOdx-I",
        "colab": {
          "base_uri": "https://localhost:8080/"
        },
        "outputId": "11da2d65-a0ac-4511-eefb-155b9ccbef4f"
      },
      "outputs": [
        {
          "output_type": "execute_result",
          "data": {
            "text/plain": [
              "(array([1, 2, 3]),\n",
              " array([[1, 2, 3],\n",
              "        [4, 5, 6]]),\n",
              " array([[[1, 2, 3],\n",
              "         [4, 5, 6],\n",
              "         [7, 8, 9]]]))"
            ]
          },
          "metadata": {},
          "execution_count": 8
        }
      ],
      "source": [
        "# Create a 1-dimensional NumPy array using np.array()\n",
        "a=np.array([1,2,3])\n",
        "\n",
        "# Create a 2-dimensional NumPy array using np.array()\n",
        "b=np.array([[1,2,3],[4,5,6]])\n",
        "\n",
        "# Create a 3-dimensional Numpy array using np.array()\n",
        "c=np.array([[[1,2,3],[4,5,6],[7,8,9]]])\n",
        "a,b,c"
      ]
    },
    {
      "cell_type": "markdown",
      "metadata": {
        "id": "hptQy0IKdx-J"
      },
      "source": [
        "Now we've you've created 3 different arrays, let's find details about them.\n",
        "\n",
        "Find the shape, number of dimensions, data type, size and type of each array."
      ]
    },
    {
      "cell_type": "code",
      "execution_count": 10,
      "metadata": {
        "id": "QJUDVkQ-dx-K",
        "colab": {
          "base_uri": "https://localhost:8080/"
        },
        "outputId": "96c53887-a512-485a-eda0-81cffdb31aae"
      },
      "outputs": [
        {
          "output_type": "execute_result",
          "data": {
            "text/plain": [
              "((3,), dtype('int64'), 3)"
            ]
          },
          "metadata": {},
          "execution_count": 10
        }
      ],
      "source": [
        "# Attributes of 1-dimensional array (shape,\n",
        "# number of dimensions, data type, size and type)\n",
        "a.shape,a.dtype,a.size"
      ]
    },
    {
      "cell_type": "code",
      "execution_count": 11,
      "metadata": {
        "id": "qe990e1Kdx-L",
        "colab": {
          "base_uri": "https://localhost:8080/"
        },
        "outputId": "4d092c16-374b-4c74-bf82-53374f7db6c9"
      },
      "outputs": [
        {
          "output_type": "execute_result",
          "data": {
            "text/plain": [
              "((2, 3), dtype('int64'), 6)"
            ]
          },
          "metadata": {},
          "execution_count": 11
        }
      ],
      "source": [
        "# Attributes of 2-dimensional array\n",
        "b.shape,b.dtype,b.size"
      ]
    },
    {
      "cell_type": "code",
      "execution_count": 12,
      "metadata": {
        "id": "B0QhB36pdx-M",
        "colab": {
          "base_uri": "https://localhost:8080/"
        },
        "outputId": "3d15af2f-b5b0-4d9c-a57c-384e68041c17"
      },
      "outputs": [
        {
          "output_type": "execute_result",
          "data": {
            "text/plain": [
              "((1, 3, 3), dtype('int64'), 9)"
            ]
          },
          "metadata": {},
          "execution_count": 12
        }
      ],
      "source": [
        "# Attributes of 3-dimensional array\n",
        "c.shape,c.dtype,c.size"
      ]
    },
    {
      "cell_type": "code",
      "execution_count": 14,
      "metadata": {
        "id": "1paeT2n1dx-M",
        "colab": {
          "base_uri": "https://localhost:8080/",
          "height": 125
        },
        "outputId": "3aeb97c0-ddf4-4aac-d006-cca80e35a7ac"
      },
      "outputs": [
        {
          "output_type": "execute_result",
          "data": {
            "text/plain": [
              "   A  B  C\n",
              "0  1  2  3\n",
              "1  4  5  6"
            ],
            "text/html": [
              "\n",
              "  <div id=\"df-763f05a0-ae92-4bc0-8ee2-a8947e489af7\" class=\"colab-df-container\">\n",
              "    <div>\n",
              "<style scoped>\n",
              "    .dataframe tbody tr th:only-of-type {\n",
              "        vertical-align: middle;\n",
              "    }\n",
              "\n",
              "    .dataframe tbody tr th {\n",
              "        vertical-align: top;\n",
              "    }\n",
              "\n",
              "    .dataframe thead th {\n",
              "        text-align: right;\n",
              "    }\n",
              "</style>\n",
              "<table border=\"1\" class=\"dataframe\">\n",
              "  <thead>\n",
              "    <tr style=\"text-align: right;\">\n",
              "      <th></th>\n",
              "      <th>A</th>\n",
              "      <th>B</th>\n",
              "      <th>C</th>\n",
              "    </tr>\n",
              "  </thead>\n",
              "  <tbody>\n",
              "    <tr>\n",
              "      <th>0</th>\n",
              "      <td>1</td>\n",
              "      <td>2</td>\n",
              "      <td>3</td>\n",
              "    </tr>\n",
              "    <tr>\n",
              "      <th>1</th>\n",
              "      <td>4</td>\n",
              "      <td>5</td>\n",
              "      <td>6</td>\n",
              "    </tr>\n",
              "  </tbody>\n",
              "</table>\n",
              "</div>\n",
              "    <div class=\"colab-df-buttons\">\n",
              "\n",
              "  <div class=\"colab-df-container\">\n",
              "    <button class=\"colab-df-convert\" onclick=\"convertToInteractive('df-763f05a0-ae92-4bc0-8ee2-a8947e489af7')\"\n",
              "            title=\"Convert this dataframe to an interactive table.\"\n",
              "            style=\"display:none;\">\n",
              "\n",
              "  <svg xmlns=\"http://www.w3.org/2000/svg\" height=\"24px\" viewBox=\"0 -960 960 960\">\n",
              "    <path d=\"M120-120v-720h720v720H120Zm60-500h600v-160H180v160Zm220 220h160v-160H400v160Zm0 220h160v-160H400v160ZM180-400h160v-160H180v160Zm440 0h160v-160H620v160ZM180-180h160v-160H180v160Zm440 0h160v-160H620v160Z\"/>\n",
              "  </svg>\n",
              "    </button>\n",
              "\n",
              "  <style>\n",
              "    .colab-df-container {\n",
              "      display:flex;\n",
              "      gap: 12px;\n",
              "    }\n",
              "\n",
              "    .colab-df-convert {\n",
              "      background-color: #E8F0FE;\n",
              "      border: none;\n",
              "      border-radius: 50%;\n",
              "      cursor: pointer;\n",
              "      display: none;\n",
              "      fill: #1967D2;\n",
              "      height: 32px;\n",
              "      padding: 0 0 0 0;\n",
              "      width: 32px;\n",
              "    }\n",
              "\n",
              "    .colab-df-convert:hover {\n",
              "      background-color: #E2EBFA;\n",
              "      box-shadow: 0px 1px 2px rgba(60, 64, 67, 0.3), 0px 1px 3px 1px rgba(60, 64, 67, 0.15);\n",
              "      fill: #174EA6;\n",
              "    }\n",
              "\n",
              "    .colab-df-buttons div {\n",
              "      margin-bottom: 4px;\n",
              "    }\n",
              "\n",
              "    [theme=dark] .colab-df-convert {\n",
              "      background-color: #3B4455;\n",
              "      fill: #D2E3FC;\n",
              "    }\n",
              "\n",
              "    [theme=dark] .colab-df-convert:hover {\n",
              "      background-color: #434B5C;\n",
              "      box-shadow: 0px 1px 3px 1px rgba(0, 0, 0, 0.15);\n",
              "      filter: drop-shadow(0px 1px 2px rgba(0, 0, 0, 0.3));\n",
              "      fill: #FFFFFF;\n",
              "    }\n",
              "  </style>\n",
              "\n",
              "    <script>\n",
              "      const buttonEl =\n",
              "        document.querySelector('#df-763f05a0-ae92-4bc0-8ee2-a8947e489af7 button.colab-df-convert');\n",
              "      buttonEl.style.display =\n",
              "        google.colab.kernel.accessAllowed ? 'block' : 'none';\n",
              "\n",
              "      async function convertToInteractive(key) {\n",
              "        const element = document.querySelector('#df-763f05a0-ae92-4bc0-8ee2-a8947e489af7');\n",
              "        const dataTable =\n",
              "          await google.colab.kernel.invokeFunction('convertToInteractive',\n",
              "                                                    [key], {});\n",
              "        if (!dataTable) return;\n",
              "\n",
              "        const docLinkHtml = 'Like what you see? Visit the ' +\n",
              "          '<a target=\"_blank\" href=https://colab.research.google.com/notebooks/data_table.ipynb>data table notebook</a>'\n",
              "          + ' to learn more about interactive tables.';\n",
              "        element.innerHTML = '';\n",
              "        dataTable['output_type'] = 'display_data';\n",
              "        await google.colab.output.renderOutput(dataTable, element);\n",
              "        const docLink = document.createElement('div');\n",
              "        docLink.innerHTML = docLinkHtml;\n",
              "        element.appendChild(docLink);\n",
              "      }\n",
              "    </script>\n",
              "  </div>\n",
              "\n",
              "\n",
              "    <div id=\"df-9d502009-984d-4a8f-88e0-b2e8cd3b3a81\">\n",
              "      <button class=\"colab-df-quickchart\" onclick=\"quickchart('df-9d502009-984d-4a8f-88e0-b2e8cd3b3a81')\"\n",
              "                title=\"Suggest charts\"\n",
              "                style=\"display:none;\">\n",
              "\n",
              "<svg xmlns=\"http://www.w3.org/2000/svg\" height=\"24px\"viewBox=\"0 0 24 24\"\n",
              "     width=\"24px\">\n",
              "    <g>\n",
              "        <path d=\"M19 3H5c-1.1 0-2 .9-2 2v14c0 1.1.9 2 2 2h14c1.1 0 2-.9 2-2V5c0-1.1-.9-2-2-2zM9 17H7v-7h2v7zm4 0h-2V7h2v10zm4 0h-2v-4h2v4z\"/>\n",
              "    </g>\n",
              "</svg>\n",
              "      </button>\n",
              "\n",
              "<style>\n",
              "  .colab-df-quickchart {\n",
              "      --bg-color: #E8F0FE;\n",
              "      --fill-color: #1967D2;\n",
              "      --hover-bg-color: #E2EBFA;\n",
              "      --hover-fill-color: #174EA6;\n",
              "      --disabled-fill-color: #AAA;\n",
              "      --disabled-bg-color: #DDD;\n",
              "  }\n",
              "\n",
              "  [theme=dark] .colab-df-quickchart {\n",
              "      --bg-color: #3B4455;\n",
              "      --fill-color: #D2E3FC;\n",
              "      --hover-bg-color: #434B5C;\n",
              "      --hover-fill-color: #FFFFFF;\n",
              "      --disabled-bg-color: #3B4455;\n",
              "      --disabled-fill-color: #666;\n",
              "  }\n",
              "\n",
              "  .colab-df-quickchart {\n",
              "    background-color: var(--bg-color);\n",
              "    border: none;\n",
              "    border-radius: 50%;\n",
              "    cursor: pointer;\n",
              "    display: none;\n",
              "    fill: var(--fill-color);\n",
              "    height: 32px;\n",
              "    padding: 0;\n",
              "    width: 32px;\n",
              "  }\n",
              "\n",
              "  .colab-df-quickchart:hover {\n",
              "    background-color: var(--hover-bg-color);\n",
              "    box-shadow: 0 1px 2px rgba(60, 64, 67, 0.3), 0 1px 3px 1px rgba(60, 64, 67, 0.15);\n",
              "    fill: var(--button-hover-fill-color);\n",
              "  }\n",
              "\n",
              "  .colab-df-quickchart-complete:disabled,\n",
              "  .colab-df-quickchart-complete:disabled:hover {\n",
              "    background-color: var(--disabled-bg-color);\n",
              "    fill: var(--disabled-fill-color);\n",
              "    box-shadow: none;\n",
              "  }\n",
              "\n",
              "  .colab-df-spinner {\n",
              "    border: 2px solid var(--fill-color);\n",
              "    border-color: transparent;\n",
              "    border-bottom-color: var(--fill-color);\n",
              "    animation:\n",
              "      spin 1s steps(1) infinite;\n",
              "  }\n",
              "\n",
              "  @keyframes spin {\n",
              "    0% {\n",
              "      border-color: transparent;\n",
              "      border-bottom-color: var(--fill-color);\n",
              "      border-left-color: var(--fill-color);\n",
              "    }\n",
              "    20% {\n",
              "      border-color: transparent;\n",
              "      border-left-color: var(--fill-color);\n",
              "      border-top-color: var(--fill-color);\n",
              "    }\n",
              "    30% {\n",
              "      border-color: transparent;\n",
              "      border-left-color: var(--fill-color);\n",
              "      border-top-color: var(--fill-color);\n",
              "      border-right-color: var(--fill-color);\n",
              "    }\n",
              "    40% {\n",
              "      border-color: transparent;\n",
              "      border-right-color: var(--fill-color);\n",
              "      border-top-color: var(--fill-color);\n",
              "    }\n",
              "    60% {\n",
              "      border-color: transparent;\n",
              "      border-right-color: var(--fill-color);\n",
              "    }\n",
              "    80% {\n",
              "      border-color: transparent;\n",
              "      border-right-color: var(--fill-color);\n",
              "      border-bottom-color: var(--fill-color);\n",
              "    }\n",
              "    90% {\n",
              "      border-color: transparent;\n",
              "      border-bottom-color: var(--fill-color);\n",
              "    }\n",
              "  }\n",
              "</style>\n",
              "\n",
              "      <script>\n",
              "        async function quickchart(key) {\n",
              "          const quickchartButtonEl =\n",
              "            document.querySelector('#' + key + ' button');\n",
              "          quickchartButtonEl.disabled = true;  // To prevent multiple clicks.\n",
              "          quickchartButtonEl.classList.add('colab-df-spinner');\n",
              "          try {\n",
              "            const charts = await google.colab.kernel.invokeFunction(\n",
              "                'suggestCharts', [key], {});\n",
              "          } catch (error) {\n",
              "            console.error('Error during call to suggestCharts:', error);\n",
              "          }\n",
              "          quickchartButtonEl.classList.remove('colab-df-spinner');\n",
              "          quickchartButtonEl.classList.add('colab-df-quickchart-complete');\n",
              "        }\n",
              "        (() => {\n",
              "          let quickchartButtonEl =\n",
              "            document.querySelector('#df-9d502009-984d-4a8f-88e0-b2e8cd3b3a81 button');\n",
              "          quickchartButtonEl.style.display =\n",
              "            google.colab.kernel.accessAllowed ? 'block' : 'none';\n",
              "        })();\n",
              "      </script>\n",
              "    </div>\n",
              "\n",
              "  <div id=\"id_7ea46648-4676-46d7-a055-d69ae79f9db9\">\n",
              "    <style>\n",
              "      .colab-df-generate {\n",
              "        background-color: #E8F0FE;\n",
              "        border: none;\n",
              "        border-radius: 50%;\n",
              "        cursor: pointer;\n",
              "        display: none;\n",
              "        fill: #1967D2;\n",
              "        height: 32px;\n",
              "        padding: 0 0 0 0;\n",
              "        width: 32px;\n",
              "      }\n",
              "\n",
              "      .colab-df-generate:hover {\n",
              "        background-color: #E2EBFA;\n",
              "        box-shadow: 0px 1px 2px rgba(60, 64, 67, 0.3), 0px 1px 3px 1px rgba(60, 64, 67, 0.15);\n",
              "        fill: #174EA6;\n",
              "      }\n",
              "\n",
              "      [theme=dark] .colab-df-generate {\n",
              "        background-color: #3B4455;\n",
              "        fill: #D2E3FC;\n",
              "      }\n",
              "\n",
              "      [theme=dark] .colab-df-generate:hover {\n",
              "        background-color: #434B5C;\n",
              "        box-shadow: 0px 1px 3px 1px rgba(0, 0, 0, 0.15);\n",
              "        filter: drop-shadow(0px 1px 2px rgba(0, 0, 0, 0.3));\n",
              "        fill: #FFFFFF;\n",
              "      }\n",
              "    </style>\n",
              "    <button class=\"colab-df-generate\" onclick=\"generateWithVariable('data')\"\n",
              "            title=\"Generate code using this dataframe.\"\n",
              "            style=\"display:none;\">\n",
              "\n",
              "  <svg xmlns=\"http://www.w3.org/2000/svg\" height=\"24px\"viewBox=\"0 0 24 24\"\n",
              "       width=\"24px\">\n",
              "    <path d=\"M7,19H8.4L18.45,9,17,7.55,7,17.6ZM5,21V16.75L18.45,3.32a2,2,0,0,1,2.83,0l1.4,1.43a1.91,1.91,0,0,1,.58,1.4,1.91,1.91,0,0,1-.58,1.4L9.25,21ZM18.45,9,17,7.55Zm-12,3A5.31,5.31,0,0,0,4.9,8.1,5.31,5.31,0,0,0,1,6.5,5.31,5.31,0,0,0,4.9,4.9,5.31,5.31,0,0,0,6.5,1,5.31,5.31,0,0,0,8.1,4.9,5.31,5.31,0,0,0,12,6.5,5.46,5.46,0,0,0,6.5,12Z\"/>\n",
              "  </svg>\n",
              "    </button>\n",
              "    <script>\n",
              "      (() => {\n",
              "      const buttonEl =\n",
              "        document.querySelector('#id_7ea46648-4676-46d7-a055-d69ae79f9db9 button.colab-df-generate');\n",
              "      buttonEl.style.display =\n",
              "        google.colab.kernel.accessAllowed ? 'block' : 'none';\n",
              "\n",
              "      buttonEl.onclick = () => {\n",
              "        google.colab.notebook.generateWithVariable('data');\n",
              "      }\n",
              "      })();\n",
              "    </script>\n",
              "  </div>\n",
              "\n",
              "    </div>\n",
              "  </div>\n"
            ],
            "application/vnd.google.colaboratory.intrinsic+json": {
              "type": "dataframe",
              "variable_name": "data",
              "summary": "{\n  \"name\": \"data\",\n  \"rows\": 2,\n  \"fields\": [\n    {\n      \"column\": \"A\",\n      \"properties\": {\n        \"dtype\": \"number\",\n        \"std\": 2,\n        \"min\": 1,\n        \"max\": 4,\n        \"num_unique_values\": 2,\n        \"samples\": [\n          4,\n          1\n        ],\n        \"semantic_type\": \"\",\n        \"description\": \"\"\n      }\n    },\n    {\n      \"column\": \"B\",\n      \"properties\": {\n        \"dtype\": \"number\",\n        \"std\": 2,\n        \"min\": 2,\n        \"max\": 5,\n        \"num_unique_values\": 2,\n        \"samples\": [\n          5,\n          2\n        ],\n        \"semantic_type\": \"\",\n        \"description\": \"\"\n      }\n    },\n    {\n      \"column\": \"C\",\n      \"properties\": {\n        \"dtype\": \"number\",\n        \"std\": 2,\n        \"min\": 3,\n        \"max\": 6,\n        \"num_unique_values\": 2,\n        \"samples\": [\n          6,\n          3\n        ],\n        \"semantic_type\": \"\",\n        \"description\": \"\"\n      }\n    }\n  ]\n}"
            }
          },
          "metadata": {},
          "execution_count": 14
        }
      ],
      "source": [
        "# Import pandas and create a DataFrame out of one\n",
        "# of the arrays you've created\n",
        "import pandas as pd\n",
        "data=pd.DataFrame(b, columns=['A','B','C'])\n",
        "data"
      ]
    },
    {
      "cell_type": "code",
      "execution_count": 15,
      "metadata": {
        "id": "CtrDrwQRdx-N",
        "colab": {
          "base_uri": "https://localhost:8080/"
        },
        "outputId": "c34e55ec-9b93-4a7e-e934-35d43e6c0fd9"
      },
      "outputs": [
        {
          "output_type": "execute_result",
          "data": {
            "text/plain": [
              "array([[1., 1.],\n",
              "       [1., 1.],\n",
              "       [1., 1.],\n",
              "       [1., 1.],\n",
              "       [1., 1.],\n",
              "       [1., 1.],\n",
              "       [1., 1.],\n",
              "       [1., 1.],\n",
              "       [1., 1.],\n",
              "       [1., 1.]])"
            ]
          },
          "metadata": {},
          "execution_count": 15
        }
      ],
      "source": [
        "# Create an array of shape (10, 2) with only ones\n",
        "all_ones=np.ones((10,2))\n",
        "all_ones"
      ]
    },
    {
      "cell_type": "code",
      "execution_count": 17,
      "metadata": {
        "id": "E4LFW9K2dx-O",
        "colab": {
          "base_uri": "https://localhost:8080/"
        },
        "outputId": "64eb5457-17d9-477b-9401-8bb30e234c46"
      },
      "outputs": [
        {
          "output_type": "execute_result",
          "data": {
            "text/plain": [
              "array([[[0., 0., 0.],\n",
              "        [0., 0., 0.]],\n",
              "\n",
              "       [[0., 0., 0.],\n",
              "        [0., 0., 0.]],\n",
              "\n",
              "       [[0., 0., 0.],\n",
              "        [0., 0., 0.]],\n",
              "\n",
              "       [[0., 0., 0.],\n",
              "        [0., 0., 0.]],\n",
              "\n",
              "       [[0., 0., 0.],\n",
              "        [0., 0., 0.]],\n",
              "\n",
              "       [[0., 0., 0.],\n",
              "        [0., 0., 0.]],\n",
              "\n",
              "       [[0., 0., 0.],\n",
              "        [0., 0., 0.]]])"
            ]
          },
          "metadata": {},
          "execution_count": 17
        }
      ],
      "source": [
        "# Create an array of shape (7, 2, 3) of only zeros\n",
        "all_zeros=np.zeros((7,2,3))\n",
        "all_zeros"
      ]
    },
    {
      "cell_type": "code",
      "execution_count": 19,
      "metadata": {
        "id": "AeN74-xadx-Q",
        "colab": {
          "base_uri": "https://localhost:8080/"
        },
        "outputId": "08c43887-3987-4a1a-e07d-a8b26aebe9cd"
      },
      "outputs": [
        {
          "output_type": "execute_result",
          "data": {
            "text/plain": [
              "array([ 0,  3,  6,  9, 12, 15, 18, 21, 24, 27, 30, 33, 36, 39, 42, 45, 48,\n",
              "       51, 54, 57, 60, 63, 66, 69, 72, 75, 78, 81, 84, 87, 90, 93, 96, 99])"
            ]
          },
          "metadata": {},
          "execution_count": 19
        }
      ],
      "source": [
        "# Create an array within a range of 0 and 100 with step 3\n",
        "arr=np.arange(0,100,3)\n",
        "arr"
      ]
    },
    {
      "cell_type": "code",
      "execution_count": 21,
      "metadata": {
        "id": "FA8Fkdnidx-Q",
        "colab": {
          "base_uri": "https://localhost:8080/"
        },
        "outputId": "0bb1c6ef-1ec9-48c9-e1fb-c142ee713cb6"
      },
      "outputs": [
        {
          "output_type": "execute_result",
          "data": {
            "text/plain": [
              "array([[9, 5],\n",
              "       [0, 9],\n",
              "       [0, 1],\n",
              "       [5, 6],\n",
              "       [5, 4],\n",
              "       [2, 0],\n",
              "       [1, 7]])"
            ]
          },
          "metadata": {},
          "execution_count": 21
        }
      ],
      "source": [
        "# Create a random array with numbers between 0 and 10 of size (7, 2)\n",
        "np.random.randint(0,10,(7,2))"
      ]
    },
    {
      "cell_type": "code",
      "execution_count": 22,
      "metadata": {
        "id": "wOWnOHVodx-R",
        "colab": {
          "base_uri": "https://localhost:8080/"
        },
        "outputId": "6dd7f2a6-35fe-488b-d0f8-3ccab2bdb05e"
      },
      "outputs": [
        {
          "output_type": "execute_result",
          "data": {
            "text/plain": [
              "array([[0.09214254, 0.47770228, 0.25512675, 0.75223087, 0.00571348],\n",
              "       [0.99695193, 0.77258671, 0.79881318, 0.36286989, 0.80642328],\n",
              "       [0.31861633, 0.77702016, 0.37167705, 0.23581553, 0.20201575]])"
            ]
          },
          "metadata": {},
          "execution_count": 22
        }
      ],
      "source": [
        "# Create a random array of floats between 0 & 1 of shape (3, 5)\n",
        "np.random.rand(3,5)"
      ]
    },
    {
      "cell_type": "code",
      "execution_count": 24,
      "metadata": {
        "id": "N7-hIrHUdx-S",
        "colab": {
          "base_uri": "https://localhost:8080/"
        },
        "outputId": "7900b50c-2501-4fb1-fe17-c665677b79b1"
      },
      "outputs": [
        {
          "output_type": "execute_result",
          "data": {
            "text/plain": [
              "array([[6, 3, 7, 4, 6, 9],\n",
              "       [2, 6, 7, 4, 3, 7],\n",
              "       [7, 2, 5, 4, 1, 7],\n",
              "       [5, 1, 4, 0, 9, 5]])"
            ]
          },
          "metadata": {},
          "execution_count": 24
        }
      ],
      "source": [
        "# Set the random seed to 42\n",
        "np.random.seed(42)\n",
        "\n",
        "# Create a random array of numbers between 0 & 10 of size (4, 6)\n",
        "np.random.randint(0,10,(4,6))"
      ]
    },
    {
      "cell_type": "markdown",
      "metadata": {
        "id": "NEwoBcn0dx-T"
      },
      "source": [
        "Run the cell above again, what happens?\n",
        "\n",
        "Are the numbers in the array different or the same? Why do think this is?\n",
        "\n",
        "Answer: The numbers in the array are same as we have assigned 42 as the random seed which performs complex calculations to give us random numbers w.r.t the seed number ie 42."
      ]
    },
    {
      "cell_type": "code",
      "execution_count": 41,
      "metadata": {
        "id": "OkHyTKyIdx-T",
        "colab": {
          "base_uri": "https://localhost:8080/"
        },
        "outputId": "d40af4d0-e711-42dd-d9a6-cbedcd8bce91"
      },
      "outputs": [
        {
          "output_type": "execute_result",
          "data": {
            "text/plain": [
              "array([1, 2, 3, 4, 5, 6, 7, 8, 9])"
            ]
          },
          "metadata": {},
          "execution_count": 41
        }
      ],
      "source": [
        "# Create an array of random numbers between 1 & 10 of size (3, 7)\n",
        "# and save it to a variable\n",
        "r1= np.random.randint(1,10,(3,7))\n",
        "\n",
        "# Find the unique numbers in the array you just created\n",
        "unique = np.unique(r1)\n",
        "unique"
      ]
    },
    {
      "cell_type": "code",
      "execution_count": 43,
      "metadata": {
        "id": "UfouOfNodx-U",
        "colab": {
          "base_uri": "https://localhost:8080/"
        },
        "outputId": "938293e7-186c-4934-c920-754e7204d6ee"
      },
      "outputs": [
        {
          "output_type": "execute_result",
          "data": {
            "text/plain": [
              "np.int64(6)"
            ]
          },
          "metadata": {},
          "execution_count": 43
        }
      ],
      "source": [
        "# Find the 0'th index of the latest array you created\n",
        "r1[0][0]"
      ]
    },
    {
      "cell_type": "code",
      "execution_count": 44,
      "metadata": {
        "id": "q4CuGZN3dx-V",
        "colab": {
          "base_uri": "https://localhost:8080/"
        },
        "outputId": "4692ada9-c69a-4ef8-e807-44413c447211"
      },
      "outputs": [
        {
          "output_type": "execute_result",
          "data": {
            "text/plain": [
              "array([[6, 7, 4, 7, 8, 1, 6],\n",
              "       [8, 5, 4, 2, 6, 6, 1]])"
            ]
          },
          "metadata": {},
          "execution_count": 44
        }
      ],
      "source": [
        "# Get the first 2 rows of latest array you created\n",
        "r1[:2]"
      ]
    },
    {
      "cell_type": "code",
      "execution_count": 45,
      "metadata": {
        "id": "hUMIBn5Vdx-V",
        "colab": {
          "base_uri": "https://localhost:8080/"
        },
        "outputId": "e97ba162-08a2-4dda-e579-d9ae8e542747"
      },
      "outputs": [
        {
          "output_type": "execute_result",
          "data": {
            "text/plain": [
              "array([[6, 7],\n",
              "       [8, 5]])"
            ]
          },
          "metadata": {},
          "execution_count": 45
        }
      ],
      "source": [
        "# Get the first 2 values of the first 2 rows of the latest array\n",
        "r1[:2,:2]"
      ]
    },
    {
      "cell_type": "code",
      "execution_count": 46,
      "metadata": {
        "id": "lbiXPHB1dx-W",
        "colab": {
          "base_uri": "https://localhost:8080/"
        },
        "outputId": "27f5a596-95d8-4aba-d741-b44d53e4f185"
      },
      "outputs": [
        {
          "output_type": "execute_result",
          "data": {
            "text/plain": [
              "(array([[2, 3, 6, 3, 8],\n",
              "        [0, 7, 6, 1, 7],\n",
              "        [0, 8, 8, 1, 6]]),\n",
              " array([[1., 1., 1., 1., 1.],\n",
              "        [1., 1., 1., 1., 1.],\n",
              "        [1., 1., 1., 1., 1.]]))"
            ]
          },
          "metadata": {},
          "execution_count": 46
        }
      ],
      "source": [
        "# Create a random array of numbers between 0 & 10 and an array of ones\n",
        "# both of size (3, 5), save them both to variables\n",
        "r2=np.random.randint(0,10,(3,5))\n",
        "ones=np.ones((3,5))\n",
        "r2,ones"
      ]
    },
    {
      "cell_type": "code",
      "execution_count": 49,
      "metadata": {
        "id": "lD291D6Xdx-W",
        "colab": {
          "base_uri": "https://localhost:8080/"
        },
        "outputId": "396a450a-4ae0-4ae3-ef24-c1c577ecdbd5"
      },
      "outputs": [
        {
          "output_type": "execute_result",
          "data": {
            "text/plain": [
              "array([[3., 4., 7., 4., 9.],\n",
              "       [1., 8., 7., 2., 8.],\n",
              "       [1., 9., 9., 2., 7.]])"
            ]
          },
          "metadata": {},
          "execution_count": 49
        }
      ],
      "source": [
        "# Add the two arrays together\n",
        "sum=r2+ones\n",
        "sum"
      ]
    },
    {
      "cell_type": "code",
      "execution_count": 52,
      "metadata": {
        "id": "iSkUIcWsdx-X",
        "colab": {
          "base_uri": "https://localhost:8080/"
        },
        "outputId": "6d0711c7-2240-433e-b860-798c00e523b2"
      },
      "outputs": [
        {
          "output_type": "execute_result",
          "data": {
            "text/plain": [
              "array([[1., 1., 1.],\n",
              "       [1., 1., 1.],\n",
              "       [1., 1., 1.],\n",
              "       [1., 1., 1.],\n",
              "       [1., 1., 1.]])"
            ]
          },
          "metadata": {},
          "execution_count": 52
        }
      ],
      "source": [
        "# Create another array of ones of shape (5, 3)\n",
        "ones2=np.ones((5,3))\n",
        "ones2"
      ]
    },
    {
      "cell_type": "code",
      "execution_count": 53,
      "metadata": {
        "id": "QCmnrUaddx-X",
        "colab": {
          "base_uri": "https://localhost:8080/",
          "height": 224
        },
        "outputId": "50155581-9532-4716-e45b-72e354ca6c60"
      },
      "outputs": [
        {
          "output_type": "error",
          "ename": "ValueError",
          "evalue": "operands could not be broadcast together with shapes (3,5) (5,3) ",
          "traceback": [
            "\u001b[0;31m---------------------------------------------------------------------------\u001b[0m",
            "\u001b[0;31mValueError\u001b[0m                                Traceback (most recent call last)",
            "\u001b[0;32m/tmp/ipython-input-53-1237215256.py\u001b[0m in \u001b[0;36m<cell line: 0>\u001b[0;34m()\u001b[0m\n\u001b[1;32m      1\u001b[0m \u001b[0;31m# Try add the array of ones and the other most recent array together\u001b[0m\u001b[0;34m\u001b[0m\u001b[0;34m\u001b[0m\u001b[0m\n\u001b[0;32m----> 2\u001b[0;31m \u001b[0msum\u001b[0m\u001b[0;34m=\u001b[0m\u001b[0msum\u001b[0m\u001b[0;34m+\u001b[0m\u001b[0mones2\u001b[0m\u001b[0;34m\u001b[0m\u001b[0;34m\u001b[0m\u001b[0m\n\u001b[0m",
            "\u001b[0;31mValueError\u001b[0m: operands could not be broadcast together with shapes (3,5) (5,3) "
          ]
        }
      ],
      "source": [
        "# Try add the array of ones and the other most recent array together\n",
        "sum=sum+ones2"
      ]
    },
    {
      "cell_type": "markdown",
      "metadata": {
        "id": "-XuHwt_Sdx-Y"
      },
      "source": [
        "When you try the last cell, it produces an error. Why do think this is?\n",
        "\n",
        "How would you fix it?\n",
        "\n",
        "Answer. This error is caused by broadcasting rules that numpy uses to perform operations on arrays of different shapes. But our arrays' shapes are not compatible with it.\n",
        "\n",
        "So we can fix it by transposing the ones array of shape (5,3) which makes it (3,5) and compatible to broadcast with array sum which also has shape (3,5)."
      ]
    },
    {
      "cell_type": "code",
      "execution_count": 54,
      "metadata": {
        "id": "DgdqtakSdx-Y",
        "colab": {
          "base_uri": "https://localhost:8080/"
        },
        "outputId": "dae485c8-3672-4a7f-d62e-c61071cd5eaa"
      },
      "outputs": [
        {
          "output_type": "execute_result",
          "data": {
            "text/plain": [
              "array([[1., 1., 1., 1., 1.],\n",
              "       [1., 1., 1., 1., 1.],\n",
              "       [1., 1., 1., 1., 1.]])"
            ]
          },
          "metadata": {},
          "execution_count": 54
        }
      ],
      "source": [
        "# Create another array of ones of shape (3, 5)\n",
        "ones3=np.ones((3,5))\n",
        "ones3"
      ]
    },
    {
      "cell_type": "code",
      "execution_count": 55,
      "metadata": {
        "id": "R_yoL8Bhdx-Z",
        "colab": {
          "base_uri": "https://localhost:8080/"
        },
        "outputId": "18ace706-f919-44d1-faef-7eda907abb9f"
      },
      "outputs": [
        {
          "output_type": "execute_result",
          "data": {
            "text/plain": [
              "array([[2., 3., 6., 3., 8.],\n",
              "       [0., 7., 6., 1., 7.],\n",
              "       [0., 8., 8., 1., 6.]])"
            ]
          },
          "metadata": {},
          "execution_count": 55
        }
      ],
      "source": [
        "# Subtract the new array of ones from the other most recent array\n",
        "sum=sum-ones3\n",
        "sum"
      ]
    },
    {
      "cell_type": "code",
      "execution_count": 56,
      "metadata": {
        "id": "qyHZZNymdx-a",
        "colab": {
          "base_uri": "https://localhost:8080/"
        },
        "outputId": "b8d96b5d-0dc3-4cef-9466-675e4591d0ab"
      },
      "outputs": [
        {
          "output_type": "execute_result",
          "data": {
            "text/plain": [
              "array([[2., 3., 6., 3., 8.],\n",
              "       [0., 7., 6., 1., 7.],\n",
              "       [0., 8., 8., 1., 6.]])"
            ]
          },
          "metadata": {},
          "execution_count": 56
        }
      ],
      "source": [
        "# Multiply the ones array with the latest array\n",
        "sum=sum*ones3\n",
        "sum"
      ]
    },
    {
      "cell_type": "code",
      "execution_count": 57,
      "metadata": {
        "id": "oDOxpSAndx-a",
        "colab": {
          "base_uri": "https://localhost:8080/"
        },
        "outputId": "02a24106-7e59-4a8e-9bca-c2931bf4b5f1"
      },
      "outputs": [
        {
          "output_type": "execute_result",
          "data": {
            "text/plain": [
              "array([[ 4.,  9., 36.,  9., 64.],\n",
              "       [ 0., 49., 36.,  1., 49.],\n",
              "       [ 0., 64., 64.,  1., 36.]])"
            ]
          },
          "metadata": {},
          "execution_count": 57
        }
      ],
      "source": [
        "# Take the latest array to the power of 2 using '**'\n",
        "sum ** 2"
      ]
    },
    {
      "cell_type": "code",
      "execution_count": 58,
      "metadata": {
        "id": "MyU6Cfz-dx-b",
        "colab": {
          "base_uri": "https://localhost:8080/"
        },
        "outputId": "31662824-2930-475e-c98e-1df8da1c72cc"
      },
      "outputs": [
        {
          "output_type": "execute_result",
          "data": {
            "text/plain": [
              "array([[ 4.,  9., 36.,  9., 64.],\n",
              "       [ 0., 49., 36.,  1., 49.],\n",
              "       [ 0., 64., 64.,  1., 36.]])"
            ]
          },
          "metadata": {},
          "execution_count": 58
        }
      ],
      "source": [
        "# Do the same thing with np.square()\n",
        "np.square(sum)"
      ]
    },
    {
      "cell_type": "code",
      "execution_count": 59,
      "metadata": {
        "id": "pI6STNRqdx-b",
        "colab": {
          "base_uri": "https://localhost:8080/"
        },
        "outputId": "7e45429b-ec49-44ad-adf9-d922ba8b6929"
      },
      "outputs": [
        {
          "output_type": "execute_result",
          "data": {
            "text/plain": [
              "np.float64(4.4)"
            ]
          },
          "metadata": {},
          "execution_count": 59
        }
      ],
      "source": [
        "# Find the mean of the latest array using np.mean()\n",
        "np.mean(sum)"
      ]
    },
    {
      "cell_type": "code",
      "execution_count": 60,
      "metadata": {
        "id": "zzJDny29dx-c",
        "colab": {
          "base_uri": "https://localhost:8080/"
        },
        "outputId": "49598ef8-da57-47be-9eb2-a60e89f6d4e6"
      },
      "outputs": [
        {
          "output_type": "execute_result",
          "data": {
            "text/plain": [
              "np.float64(8.0)"
            ]
          },
          "metadata": {},
          "execution_count": 60
        }
      ],
      "source": [
        "# Find the maximum of the latest array using np.max()\n",
        "np.max(sum)"
      ]
    },
    {
      "cell_type": "code",
      "execution_count": 61,
      "metadata": {
        "id": "6S7o_0Sfdx-d",
        "colab": {
          "base_uri": "https://localhost:8080/"
        },
        "outputId": "6912c073-2502-48e6-a2d4-3ba5aed710aa"
      },
      "outputs": [
        {
          "output_type": "execute_result",
          "data": {
            "text/plain": [
              "np.float64(0.0)"
            ]
          },
          "metadata": {},
          "execution_count": 61
        }
      ],
      "source": [
        "# Find the minimum of the latest array using np.min()\n",
        "np.min(sum)"
      ]
    },
    {
      "cell_type": "code",
      "execution_count": 62,
      "metadata": {
        "id": "Sl02GGI0dx-d",
        "colab": {
          "base_uri": "https://localhost:8080/"
        },
        "outputId": "46d8bef0-9eef-4b8d-a010-4f47f122f736"
      },
      "outputs": [
        {
          "output_type": "execute_result",
          "data": {
            "text/plain": [
              "np.float64(2.961981318869741)"
            ]
          },
          "metadata": {},
          "execution_count": 62
        }
      ],
      "source": [
        "# Find the standard deviation of the latest array\n",
        "np.std(sum)"
      ]
    },
    {
      "cell_type": "code",
      "execution_count": 63,
      "metadata": {
        "id": "hRLTScIwdx-e",
        "colab": {
          "base_uri": "https://localhost:8080/"
        },
        "outputId": "98afdf8a-13c0-4f4f-8e4b-89a754a26720"
      },
      "outputs": [
        {
          "output_type": "execute_result",
          "data": {
            "text/plain": [
              "np.float64(8.773333333333332)"
            ]
          },
          "metadata": {},
          "execution_count": 63
        }
      ],
      "source": [
        "# Find the variance of the latest array\n",
        "np.var(sum)"
      ]
    },
    {
      "cell_type": "code",
      "execution_count": 64,
      "metadata": {
        "id": "Ly5BK2zOdx-e",
        "colab": {
          "base_uri": "https://localhost:8080/"
        },
        "outputId": "69abcf1b-ca52-4038-98cb-436f3f547224"
      },
      "outputs": [
        {
          "output_type": "execute_result",
          "data": {
            "text/plain": [
              "array([[[2.],\n",
              "        [3.],\n",
              "        [6.],\n",
              "        [3.],\n",
              "        [8.]],\n",
              "\n",
              "       [[0.],\n",
              "        [7.],\n",
              "        [6.],\n",
              "        [1.],\n",
              "        [7.]],\n",
              "\n",
              "       [[0.],\n",
              "        [8.],\n",
              "        [8.],\n",
              "        [1.],\n",
              "        [6.]]])"
            ]
          },
          "metadata": {},
          "execution_count": 64
        }
      ],
      "source": [
        "# Reshape the latest array to (3, 5, 1)\n",
        "np.reshape(sum,(3,5,1))"
      ]
    },
    {
      "cell_type": "code",
      "execution_count": 65,
      "metadata": {
        "id": "5Kj_ULnKdx-f",
        "colab": {
          "base_uri": "https://localhost:8080/"
        },
        "outputId": "99f06f17-c4db-4043-b6e8-6ce93daa1c06"
      },
      "outputs": [
        {
          "output_type": "execute_result",
          "data": {
            "text/plain": [
              "array([[2., 0., 0.],\n",
              "       [3., 7., 8.],\n",
              "       [6., 6., 8.],\n",
              "       [3., 1., 1.],\n",
              "       [8., 7., 6.]])"
            ]
          },
          "metadata": {},
          "execution_count": 65
        }
      ],
      "source": [
        "# Transpose the latest array\n",
        "sum.T"
      ]
    },
    {
      "cell_type": "markdown",
      "metadata": {
        "id": "wgUHL2-edx-g"
      },
      "source": [
        "What does the transpose do?\n",
        "\n",
        "Answer. Transpose simply swaps a matrix's rows with columns."
      ]
    },
    {
      "cell_type": "code",
      "execution_count": 70,
      "metadata": {
        "id": "fJQ0-SEKdx-g",
        "colab": {
          "base_uri": "https://localhost:8080/"
        },
        "outputId": "c0b1af9f-7b84-47fc-8603-c105a64134ef"
      },
      "outputs": [
        {
          "output_type": "execute_result",
          "data": {
            "text/plain": [
              "(array([[6, 5, 5],\n",
              "        [5, 2, 5],\n",
              "        [7, 1, 4]]),\n",
              " array([[0, 0],\n",
              "        [4, 2],\n",
              "        [3, 2]]))"
            ]
          },
          "metadata": {},
          "execution_count": 70
        }
      ],
      "source": [
        "# Create two arrays of random integers between 0 to 10\n",
        "# one of size (3, 3) the other of size (3, 2)\n",
        "rand1=np.random.randint(0,10,(3,3))\n",
        "rand2=np.random.randint(0,10,(3,2))\n",
        "rand1,rand2"
      ]
    },
    {
      "cell_type": "code",
      "execution_count": 71,
      "metadata": {
        "id": "r8mYSvE-dx-h",
        "colab": {
          "base_uri": "https://localhost:8080/"
        },
        "outputId": "a22cc16f-5d2e-4ad8-f280-52573a605af2"
      },
      "outputs": [
        {
          "output_type": "execute_result",
          "data": {
            "text/plain": [
              "array([[35, 20],\n",
              "       [23, 14],\n",
              "       [16, 10]])"
            ]
          },
          "metadata": {},
          "execution_count": 71
        }
      ],
      "source": [
        "# Perform a dot product on the two newest arrays you created\n",
        "np.dot(rand1,rand2)"
      ]
    },
    {
      "cell_type": "code",
      "execution_count": 72,
      "metadata": {
        "id": "J8iJuvM7dx-1",
        "colab": {
          "base_uri": "https://localhost:8080/"
        },
        "outputId": "1c0614f5-c41f-451c-c593-488294a4e947"
      },
      "outputs": [
        {
          "output_type": "execute_result",
          "data": {
            "text/plain": [
              "(array([[0, 0, 4],\n",
              "        [5, 2, 8],\n",
              "        [4, 7, 0],\n",
              "        [4, 2, 0]]),\n",
              " array([[3, 4, 6],\n",
              "        [0, 2, 1],\n",
              "        [8, 9, 5],\n",
              "        [9, 2, 7]]))"
            ]
          },
          "metadata": {},
          "execution_count": 72
        }
      ],
      "source": [
        "# Create two arrays of random integers between 0 to 10\n",
        "# both of size (4, 3)\n",
        "rand3=np.random.randint(0,10,(4,3))\n",
        "rand4=np.random.randint(0,10,(4,3))\n",
        "rand3,rand4"
      ]
    },
    {
      "cell_type": "code",
      "execution_count": 73,
      "metadata": {
        "id": "6SVptR5odx-1",
        "colab": {
          "base_uri": "https://localhost:8080/",
          "height": 190
        },
        "outputId": "f45707d4-705f-4148-c838-5beeb52efc29"
      },
      "outputs": [
        {
          "output_type": "error",
          "ename": "ValueError",
          "evalue": "shapes (4,3) and (4,3) not aligned: 3 (dim 1) != 4 (dim 0)",
          "traceback": [
            "\u001b[0;31m---------------------------------------------------------------------------\u001b[0m",
            "\u001b[0;31mValueError\u001b[0m                                Traceback (most recent call last)",
            "\u001b[0;32m/tmp/ipython-input-73-2675185932.py\u001b[0m in \u001b[0;36m<cell line: 0>\u001b[0;34m()\u001b[0m\n\u001b[1;32m      1\u001b[0m \u001b[0;31m# Perform a dot product on the two newest arrays you created\u001b[0m\u001b[0;34m\u001b[0m\u001b[0;34m\u001b[0m\u001b[0m\n\u001b[0;32m----> 2\u001b[0;31m \u001b[0mnp\u001b[0m\u001b[0;34m.\u001b[0m\u001b[0mdot\u001b[0m\u001b[0;34m(\u001b[0m\u001b[0mrand3\u001b[0m\u001b[0;34m,\u001b[0m\u001b[0mrand4\u001b[0m\u001b[0;34m)\u001b[0m\u001b[0;34m\u001b[0m\u001b[0;34m\u001b[0m\u001b[0m\n\u001b[0m",
            "\u001b[0;31mValueError\u001b[0m: shapes (4,3) and (4,3) not aligned: 3 (dim 1) != 4 (dim 0)"
          ]
        }
      ],
      "source": [
        "# Perform a dot product on the two newest arrays you created\n",
        "np.dot(rand3,rand4)"
      ]
    },
    {
      "cell_type": "markdown",
      "metadata": {
        "id": "aZw3yN68dx-2"
      },
      "source": [
        "It doesn't work. How would you fix it?\n",
        "\n",
        "Answer. We can transpose the second array to match the dimension compatible for matrix multiplication and perform the matrix multiplication."
      ]
    },
    {
      "cell_type": "code",
      "execution_count": 74,
      "metadata": {
        "id": "l965AXjPdx-3",
        "colab": {
          "base_uri": "https://localhost:8080/"
        },
        "outputId": "d83a19c5-df03-42c0-89c3-efa968db77a3"
      },
      "outputs": [
        {
          "output_type": "execute_result",
          "data": {
            "text/plain": [
              "array([[ 24,   4,  20,  28],\n",
              "       [ 71,  12,  98, 105],\n",
              "       [ 40,  14,  95,  50],\n",
              "       [ 20,   4,  50,  40]])"
            ]
          },
          "metadata": {},
          "execution_count": 74
        }
      ],
      "source": [
        "# Take the latest two arrays, perform a transpose on one of them and then perform\n",
        "# a dot product on them both\n",
        "np.dot(rand3,rand4.T)"
      ]
    },
    {
      "cell_type": "markdown",
      "metadata": {
        "id": "UXPwYc92dx-4"
      },
      "source": [
        "Notice how performing a transpose allows the dot product to happen.\n",
        "\n",
        "Why is this?\n",
        "\n",
        "Answer. It is because the dimension of the second array was changed to (3,4) for it to be in the form of (4 x 3) * (3 x 4) which is required for multiplication and gives 4*4 matrix.\n",
        "\n",
        "Checking out the documentation on [`np.dot()`](https://docs.scipy.org/doc/numpy/reference/generated/numpy.dot.html) may help, as well as reading [Math is Fun's guide on the dot product](https://www.mathsisfun.com/algebra/vectors-dot-product.html).\n",
        "\n",
        "Let's now compare arrays."
      ]
    },
    {
      "cell_type": "code",
      "execution_count": 75,
      "metadata": {
        "id": "MZIkaacbdx-4",
        "colab": {
          "base_uri": "https://localhost:8080/"
        },
        "outputId": "8862f28f-ce38-46cd-9cd4-061a7bf0d577"
      },
      "outputs": [
        {
          "output_type": "execute_result",
          "data": {
            "text/plain": [
              "(array([[7, 1, 5],\n",
              "        [6, 1, 9],\n",
              "        [1, 9, 0],\n",
              "        [7, 0, 8]]),\n",
              " array([[5, 6, 9],\n",
              "        [6, 9, 2],\n",
              "        [1, 8, 7],\n",
              "        [9, 6, 8]]))"
            ]
          },
          "metadata": {},
          "execution_count": 75
        }
      ],
      "source": [
        "# Create two arrays of random integers between 0 & 10 of the same shape\n",
        "# and save them to variables\n",
        "rand5=np.random.randint(0,10,(4,3))\n",
        "rand6=np.random.randint(0,10,(4,3))\n",
        "rand5,rand6"
      ]
    },
    {
      "cell_type": "code",
      "execution_count": 76,
      "metadata": {
        "id": "v8Bz18GKdx-5",
        "colab": {
          "base_uri": "https://localhost:8080/"
        },
        "outputId": "46845a77-4ff6-47e9-f7bb-04412b3266ff"
      },
      "outputs": [
        {
          "output_type": "execute_result",
          "data": {
            "text/plain": [
              "array([[ True, False, False],\n",
              "       [False, False,  True],\n",
              "       [False,  True, False],\n",
              "       [False, False, False]])"
            ]
          },
          "metadata": {},
          "execution_count": 76
        }
      ],
      "source": [
        "# Compare the two arrays with '>'\n",
        "rand5>rand6"
      ]
    },
    {
      "cell_type": "markdown",
      "metadata": {
        "id": "3H2sJf-3dx-6"
      },
      "source": [
        "What happens when you compare the arrays with `>`?\n",
        "\n",
        "Answer. Each element is compared with the corresponding element in the next array and returns True and False.\n",
        "\n"
      ]
    },
    {
      "cell_type": "code",
      "execution_count": 77,
      "metadata": {
        "id": "TaRl4RUgdx-7",
        "colab": {
          "base_uri": "https://localhost:8080/"
        },
        "outputId": "48ef46ec-07c7-4d88-86d6-0c575f3f68f0"
      },
      "outputs": [
        {
          "output_type": "execute_result",
          "data": {
            "text/plain": [
              "array([[ True, False, False],\n",
              "       [ True, False,  True],\n",
              "       [ True,  True, False],\n",
              "       [False, False,  True]])"
            ]
          },
          "metadata": {},
          "execution_count": 77
        }
      ],
      "source": [
        "# Compare the two arrays with '>='\n",
        "rand5 >= rand6"
      ]
    },
    {
      "cell_type": "code",
      "execution_count": 78,
      "metadata": {
        "id": "2XkCvwyndx-7",
        "colab": {
          "base_uri": "https://localhost:8080/"
        },
        "outputId": "229470f7-bdc0-4da4-aad8-34092d1e8c72"
      },
      "outputs": [
        {
          "output_type": "execute_result",
          "data": {
            "text/plain": [
              "array([9, 9, 8])"
            ]
          },
          "metadata": {},
          "execution_count": 78
        }
      ],
      "source": [
        "# Find which elements of the first array are greater than 7\n",
        "greater = rand5 >7\n",
        "rand5[greater]"
      ]
    },
    {
      "cell_type": "code",
      "execution_count": 79,
      "metadata": {
        "id": "fZIc0xlPdx-8",
        "colab": {
          "base_uri": "https://localhost:8080/"
        },
        "outputId": "df87053b-ff91-4acf-8443-718dc06c5e15"
      },
      "outputs": [
        {
          "output_type": "execute_result",
          "data": {
            "text/plain": [
              "array([6, 1, 8])"
            ]
          },
          "metadata": {},
          "execution_count": 79
        }
      ],
      "source": [
        "# Which parts of each array are equal? (try using '==')\n",
        "greater = rand5 == rand6\n",
        "rand5[greater]"
      ]
    },
    {
      "cell_type": "code",
      "execution_count": 86,
      "metadata": {
        "id": "0oNG9CZOdx-8",
        "colab": {
          "base_uri": "https://localhost:8080/"
        },
        "outputId": "6eeb4867-08f4-4de0-90a3-cdb415607b1c"
      },
      "outputs": [
        {
          "output_type": "execute_result",
          "data": {
            "text/plain": [
              "(array([[5, 6, 9],\n",
              "        [6, 9, 2],\n",
              "        [1, 8, 7],\n",
              "        [9, 6, 8]]),\n",
              " array([[5, 6, 9],\n",
              "        [2, 6, 9],\n",
              "        [1, 7, 8],\n",
              "        [6, 8, 9]]))"
            ]
          },
          "metadata": {},
          "execution_count": 86
        }
      ],
      "source": [
        "# Sort one of the arrays you just created in ascending order\n",
        "rand6,np.sort(rand6)"
      ]
    },
    {
      "cell_type": "code",
      "execution_count": 87,
      "metadata": {
        "id": "5KxcN097dx-9",
        "colab": {
          "base_uri": "https://localhost:8080/"
        },
        "outputId": "6d446827-d98a-489e-a04b-183285517e86"
      },
      "outputs": [
        {
          "output_type": "execute_result",
          "data": {
            "text/plain": [
              "array([[0, 1, 2],\n",
              "       [2, 0, 1],\n",
              "       [0, 2, 1],\n",
              "       [1, 2, 0]])"
            ]
          },
          "metadata": {},
          "execution_count": 87
        }
      ],
      "source": [
        "# Sort the indexes of one of the arrays you just created\n",
        "np.argsort(rand6,axis=1)"
      ]
    },
    {
      "cell_type": "code",
      "execution_count": 89,
      "metadata": {
        "id": "6389oZG8dx--",
        "colab": {
          "base_uri": "https://localhost:8080/"
        },
        "outputId": "734ed782-f553-459c-d7e6-7af23df77ecc"
      },
      "outputs": [
        {
          "output_type": "execute_result",
          "data": {
            "text/plain": [
              "np.int64(5)"
            ]
          },
          "metadata": {},
          "execution_count": 89
        }
      ],
      "source": [
        "# Find the index with the maximum value in one of the arrays you've created\n",
        "np.argmax(rand5)"
      ]
    },
    {
      "cell_type": "code",
      "execution_count": 90,
      "metadata": {
        "id": "Yu0i8Ahndx--",
        "colab": {
          "base_uri": "https://localhost:8080/"
        },
        "outputId": "2edd1bbf-b715-466d-fa7c-df4fd8bba113"
      },
      "outputs": [
        {
          "output_type": "execute_result",
          "data": {
            "text/plain": [
              "np.int64(8)"
            ]
          },
          "metadata": {},
          "execution_count": 90
        }
      ],
      "source": [
        "# Find the index with the minimum value in one of the arrays you've created\n",
        "np.argmin(rand5)"
      ]
    },
    {
      "cell_type": "code",
      "execution_count": 91,
      "metadata": {
        "id": "Z-x69Vo2dx-_",
        "colab": {
          "base_uri": "https://localhost:8080/"
        },
        "outputId": "7df3c074-8b2b-45e3-dee1-48708ad65098"
      },
      "outputs": [
        {
          "output_type": "execute_result",
          "data": {
            "text/plain": [
              "array([0, 2, 1, 2])"
            ]
          },
          "metadata": {},
          "execution_count": 91
        }
      ],
      "source": [
        "# Find the indexes with the maximum values down the 1st axis (axis=1)\n",
        "# of one of the arrays you created\n",
        "np.argmax(rand5,axis=1)"
      ]
    },
    {
      "cell_type": "code",
      "execution_count": 92,
      "metadata": {
        "id": "2aUfCmiydx_A",
        "colab": {
          "base_uri": "https://localhost:8080/"
        },
        "outputId": "72a9c15d-da2e-4798-f04e-9593c4bf94f4"
      },
      "outputs": [
        {
          "output_type": "execute_result",
          "data": {
            "text/plain": [
              "array([2, 3, 2])"
            ]
          },
          "metadata": {},
          "execution_count": 92
        }
      ],
      "source": [
        "# Find the indexes with the minimum values across the 0th axis (axis=0)\n",
        "# of one of the arrays you created\n",
        "np.argmin(rand5,axis=0)"
      ]
    },
    {
      "cell_type": "code",
      "execution_count": 93,
      "metadata": {
        "id": "GC5PlIbtdx_B",
        "colab": {
          "base_uri": "https://localhost:8080/"
        },
        "outputId": "6967df21-e0ac-4a2b-f078-5aec48a70c08"
      },
      "outputs": [
        {
          "output_type": "execute_result",
          "data": {
            "text/plain": [
              "array([[-1.18326562,  0.49499565, -0.16530961, -0.68717518],\n",
              "       [ 0.06835125, -0.40940883,  1.88954766, -0.67580473],\n",
              "       [-0.91341254, -0.45503317, -0.41276161,  0.59564365]])"
            ]
          },
          "metadata": {},
          "execution_count": 93
        }
      ],
      "source": [
        "# Create an array of normally distributed random numbers\n",
        "np.random.randn(3,4)"
      ]
    },
    {
      "cell_type": "code",
      "execution_count": 94,
      "metadata": {
        "id": "j44j4uledx_C",
        "colab": {
          "base_uri": "https://localhost:8080/"
        },
        "outputId": "e59a5cc6-ccd8-4df7-ede8-aa05c112caea"
      },
      "outputs": [
        {
          "output_type": "execute_result",
          "data": {
            "text/plain": [
              "array([  1.,  12.,  23.,  34.,  45.,  56.,  67.,  78.,  89., 100.])"
            ]
          },
          "metadata": {},
          "execution_count": 94
        }
      ],
      "source": [
        "# Create an array with 10 evenly spaced numbers between 1 and 100\n",
        "np.linspace(1,100,10)"
      ]
    }
  ],
  "metadata": {
    "kernelspec": {
      "display_name": "Python 3",
      "language": "python",
      "name": "python3"
    },
    "language_info": {
      "codemirror_mode": {
        "name": "ipython",
        "version": 3
      },
      "file_extension": ".py",
      "mimetype": "text/x-python",
      "name": "python",
      "nbconvert_exporter": "python",
      "pygments_lexer": "ipython3",
      "version": "3.8.3"
    },
    "colab": {
      "provenance": [],
      "include_colab_link": true
    }
  },
  "nbformat": 4,
  "nbformat_minor": 0
}